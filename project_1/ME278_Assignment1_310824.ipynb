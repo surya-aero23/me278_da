{
 "cells": [
  {
   "cell_type": "markdown",
   "id": "ca328bde",
   "metadata": {},
   "source": [
    "<center>\n",
    "    <h1>ME 278: Assignment 01</h1>\n",
    "    <h3>Date: 31th Aug, 2024 <br> Due date: 10th Sep, 2024</h3>\n"
   ]
  },
  {
   "cell_type": "markdown",
   "id": "c00144b7",
   "metadata": {},
   "source": [
    "# Instructions: \n",
    "1. You can use IDE of your choice for coding: Jupyter lab/ Jupyter notebook/ VS Code/ any other. \\\n",
    "**Only \" .ipynb \"  file will be accepted for grading, no other file type will be considered.** \n",
    "2. You must upload **only one .ipynb file.** For pen paper based work, upload the images in the same .ipynb file, no separate file will be considered for evaluation. \n",
    "3. Please follow the format for name of .ipynb file as: \\\n",
    "ME278_Assignment1_\\<Your name>_<Last 5 digits of SR No.>.ipynb \\\n",
    "Eg. ME278_Assignment1_Sarvesh_12345.ipynb  "
   ]
  },
  {
   "cell_type": "markdown",
   "id": "df27df5b",
   "metadata": {},
   "source": [
    "## Question:1\n",
    "\n",
    "The power method is used to find the largest eigenvalues and eigenvectors of a matrix. As we studied in class, the input needed is only a matrix-vector product. In that sense, it is a matrix-free method as far as we know the matrix-vector multiplication terms. This method becomes very useful in dealing with matrices of very large size.\n",
    "\n",
    "\n",
    "With this, let's implement the power method to calculate the three largest absolute eigenvalues of a matrix, using just the matrix-vector product. \n",
    "\n",
    "Use the following guidelines to solve the problem:\n",
    "1. The file contains the **data for matrix elements of the first row** of a square matrix of dimension $100 \\times 100$. Download the data file from  <a href='https://drive.google.com/file/d/12rXnyY3nWhxrdIJpCnoTqyRi_SR65JXc/view?usp=drivesdk'>here</a>.\n",
    "2. The next row is a cyclic permutation of its previous row in a backward manner.\n",
    "\n",
    "   Eg. $R_i$ = [1,3,5,7,6,9,...] then the $R_{i+1}$ = [3,5,7,6,9,...,1] \n",
    "   where $R_i$ is the $i^{th}$ row\n",
    "   \n",
    "   \n",
    "   In this manner, every row is a backward cyclic permutation of its previous row. **However**, there is an additional condition: the row's starting element, which is backwards permuted in the current row, gets doubled in the next row.\n",
    "  \n",
    "   \n",
    "   Eg. If \n",
    "   \n",
    "   $R_i$ = [1, 3, 5, 7, 6, 9,...] then \n",
    "   \n",
    "   $R_{i+1}$ = [3, 5, 7, 6, 9,..., 1 * 2], \n",
    "   \n",
    "   $R_{i+2}$ = [5, 7, 6, 9, ..., 2, 3 * 2], \n",
    "   \n",
    "   $R_{i+3}$= [7, 6, 9, ..., 2, 6, 5 * 2] \n",
    "\n",
    "\n",
    "*(Second row should be constructed using the first row with the conditions stated above. Third row constructed from the second row and so on. **Do not make any changes in the first row**)          \n",
    "\n",
    "\n",
    "\n",
    "### Task: \n",
    "1. <b>[0.5 points]</b> Read the file and store the data for the first row of the square matrix. \n",
    "2. <b>[0.5 points]</b> Construct a function that can provide you with the matrix-vector product. **(Matrix should not be stored)**\n",
    "3. <b>[2.5 points]</b> Use the power method to get the three largest absolute eigenvalues of the matrix. The matrix should not be stored for the deflation step.\n",
    "4. <b>[0.5 points]</b> For the obtained largest eigenvalue, plot the iterated values obtained in each iteration and show the convergence. Could you comment on the number of iterations used for convergence?\n",
    "5. <b>[1.5 points]</b> Construct the full (100,100) matrix using the above-stated guidelines. Calculate the eigenvalues of the constructed full matrix using Numpy's available subroutines and verify with the power method's output eigenvalues. Time the calculations in Python for the total run time for the implemented power method and the run time for Numpy's subroutine for eigenvalue calculation.Comment based on the obtained eigenvalues using the power method and Numpy's output.\n",
    "7. <b>[0.25 points]</b> What if, instead of starting with the first row and backward cyclic permutation, we do forward cyclic permutation? What if we begin with the last row and do forward cyclic permutation? Comment on the matrix that can be obtained in the two cases\n",
    "8. <b>[0.25 points]</b> Compute the total storage used in power method implementation. \n"
   ]
  },
  {
   "cell_type": "markdown",
   "id": "224fd79f",
   "metadata": {},
   "source": [
    "## Question 2\n",
    "\n",
    "In class we proved that a symmetric matrix has real eigenvalues and orthonormal eigenvectors. Lets check this property for the given two symmetric matrices A and B given as follows:\n",
    "\n",
    "\\begin{equation}\n",
    "A = \n",
    "\\begin{pmatrix}\n",
    "  3       & 2   & 5   \\\\\n",
    "  2       & 0   & 2 \\\\\n",
    "  5       & 2   & 3 \\\\  \n",
    "\\end{pmatrix}\n",
    "\\end{equation}\n",
    "\n",
    "\\begin{equation}\n",
    "B = \n",
    "\\begin{pmatrix}\n",
    "  3       & 2   & 4   \\\\\n",
    "  2       & 0   & 2 \\\\\n",
    "  4       & 2   & 3 \\\\  \n",
    "\\end{pmatrix}\n",
    "\\end{equation}\n",
    "\n",
    "1. <b>[0.5 points]</b> Calculate eigenvalues and eigenvectors for matrices A and B. \n",
    "2. <b>[1.5 points]</b> Are the obtained eigenvalues and eigenvectors for A and B are real and orthonormal respectively? If the eigenvectors are not orthonormal, make them orthonormal.  "
   ]
  },
  {
   "cell_type": "markdown",
   "id": "0a403fe6",
   "metadata": {},
   "source": []
  }
 ],
 "metadata": {
  "kernelspec": {
   "display_name": "Python 3 (ipykernel)",
   "language": "python",
   "name": "python3"
  },
  "language_info": {
   "codemirror_mode": {
    "name": "ipython",
    "version": 3
   },
   "file_extension": ".py",
   "mimetype": "text/x-python",
   "name": "python",
   "nbconvert_exporter": "python",
   "pygments_lexer": "ipython3",
   "version": "3.10.12"
  }
 },
 "nbformat": 4,
 "nbformat_minor": 5
}
