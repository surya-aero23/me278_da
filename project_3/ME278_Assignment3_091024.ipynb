{
 "cells": [
  {
   "cell_type": "markdown",
   "id": "5060627c-3d33-4e6a-b88e-425493585f0f",
   "metadata": {},
   "source": [
    "<center>\n",
    "    <h1>ME 278: Assignment 03 </h1>\n",
    "    <h3>Date: $9^{th}$ Oct., 2024 <br> Due date: $20^{th}$ October, 2024 (till 23:59 Hrs)</h3>"
   ]
  },
  {
   "cell_type": "markdown",
   "id": "73e84395-3421-440e-b248-b8d4f1591324",
   "metadata": {},
   "source": [
    "# Instructions: \n",
    "1. Q1, Q2a), Q2c) are pen-paper based questions. Q2b), Q3a) Q3b) are coding work problems.  \n",
    "1. You must upload **only one .ipynb file.** For pen paper based work, upload the a pdf file.  \n",
    "3. Please follow the format for name of .ipynb file and pdf file: \\\n",
    "ME278_Assignment3_\\<Your name>_<Last 5 digits of SR No.>.ipynb \\\n",
    "Eg. ME278_Assignment3_Sarvesh_12345.ipynb  \n",
    "\n",
    "### Please follow the above format for .ipynb and pdf file submission"
   ]
  },
  {
   "cell_type": "markdown",
   "id": "4d0db386-2996-469e-a658-d98dba8f92f9",
   "metadata": {},
   "source": [
    "##  Q1. \n",
    "**[1 points]** Obtain the minimizer $x^*$ and corresponding Lagrange multipliers for the problem: \n",
    "\n",
    "\\begin{aligned}\n",
    " \\text{minimize }     & \\frac{e^{x_1}}{e^{x_2}} \\\\\n",
    " \\text{subject to }  \\\\\n",
    " & e^{x_1} + e^{x_2} \\leq 20 \\\\\n",
    " & x_1 \\geq 0                 \n",
    "\\end{aligned}\n",
    "\n",
    "\n",
    "                               "
   ]
  },
  {
   "cell_type": "markdown",
   "id": "ac386c92-618b-442a-acb3-2599ae8e16bc",
   "metadata": {},
   "source": [
    "## Q2. \n",
    "Consider the following constrained optimization problem: \n",
    "\n",
    "\\begin{aligned}\n",
    " \\text{minimize }     & x^{2}_{1} + x^{2}_{2} \\\\\n",
    " \\text{subject to }  \\\\\n",
    " & -2 x_1 - x_2 + 10 \\leq 0   \\\\\n",
    " & x_2 \\geq 0                 \n",
    "\\end{aligned}\n",
    "\n",
    "\n",
    "**Q2a)[1 point]** Obtain the solution $x^*$ and corresponding Lagrange multipliers \\\n",
    "**Q2b)[1 point]** Obtain a graphical solution for this problem. (Use matplotlib.pyplot to plot)  \\\n",
    "**Q2c)[1 point]** Write the dual problem for the given primal problem."
   ]
  },
  {
   "cell_type": "markdown",
   "id": "5c7bf959-61c4-4b33-9032-fdb9956cf7dc",
   "metadata": {},
   "source": [
    "## Q3. Steepest Descent Method:\n",
    "\n",
    "The convergence of line search methods depends on choices of direction and step length. For steepest descent method, we consider  a gradient of the function to a search direction to reduce the objective function value. However, choosing a optimal step length also play an important role in getting the convegence. To obtain a optimal step length, a backtracking line search alogorithm can be used as follows:\n",
    "\n",
    "**Algorithm:** \\\n",
    "Choose $\\eta_0 > 0, \\rho \\in (0, 1), \\text{set } \\eta  \\leftarrow \\eta_0 $ \\\n",
    "while $L(\\theta_k + \\eta d_k) \\geq L(\\theta_k) + c \\eta \\nabla L^{T}_{k} d_k$ \\\n",
    "$\\eta  \\leftarrow \\rho * \\eta $\\\n",
    "Terminate with $\\eta_k = \\eta$ \n",
    "\n",
    "\n",
    "where, $\\eta_0$ is a initial guess for step legth. $\\rho, c$ are constants, $d_k$ is direction at $k^{th}$ iteration\n",
    "\n",
    "\n",
    "Consider an unconstrained problem:\n",
    "\n",
    "$$\\text{max } x^{2}_{1} + x_1 \\left(10-\\frac{x_2 + 5x_1}{2}  \\right) -x_2 \\left(\\frac{x_1 + x_2}{2}\\right) + \\left( \\frac{x_1 + x_2}{2} \\right)^2$$\n",
    "\n",
    "\n",
    "\n",
    "\n",
    "\n",
    "\n",
    "\n",
    "**Q3a)[1 point]** Implement the above algorithm for backtracking line search to obain a optimal step length $\\eta^*$\\( Consider $\\rho = 0.9, c = 1e-4$, $\\eta_0 = 1$, $\\theta_0 = [0,0]$) \n",
    "\n",
    "\n",
    "**Q3b)[2 points]** Consider a starting point $\\theta_0 = [0, 0]$. Implement the steepest decent method to obtain the minimizer $x^*$. \\\n",
    "(If you are not able to solve Q3a), you can use step length as 0.5)"
   ]
  }
 ],
 "metadata": {
  "kernelspec": {
   "display_name": "Python 3 (ipykernel)",
   "language": "python",
   "name": "python3"
  },
  "language_info": {
   "codemirror_mode": {
    "name": "ipython",
    "version": 3
   },
   "file_extension": ".py",
   "mimetype": "text/x-python",
   "name": "python",
   "nbconvert_exporter": "python",
   "pygments_lexer": "ipython3",
   "version": "3.10.10"
  }
 },
 "nbformat": 4,
 "nbformat_minor": 5
}
